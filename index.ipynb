{
 "cells": [
  {
   "cell_type": "code",
   "execution_count": 1,
   "id": "46cc6e1c",
   "metadata": {
    "scrolled": false
   },
   "outputs": [
    {
     "data": {
      "application/vnd.jupyter.widget-view+json": {
       "model_id": "eb33154f4eed4f00a027a63d28e71017",
       "version_major": 2,
       "version_minor": 0
      },
      "text/plain": [
       "HypernetxWidget(component='HypernetxWidget', props={'nodes': [{'uid': 'H'}, {'uid': 'BM'}, {'uid': 'FN'}, {'ui…"
      ]
     },
     "metadata": {},
     "output_type": "display_data"
    }
   ],
   "source": [
    "from hnxwidget import HypernetxWidget\n",
    "import hypernetx as hnx\n",
    "\n",
    "scenes = {\n",
    "    'Blonde': ('FN', 'TH','MB', 'HN', 'H'),\n",
    "    'Turtle': ('TH', 'JV'),\n",
    "    3: ('BM', 'FN', 'JA'),\n",
    "    4: ('JV', 'JU', 'CH', 'BM'),\n",
    "    5: ('JU', 'CH', 'BR', 'CN', 'CC', 'JV', 'BM'),\n",
    "    6: ('TH', 'GP'),\n",
    "    7: ('GP', 'MP'),\n",
    "    8: ('MA', 'GP'),\n",
    "}\n",
    "\n",
    "H = hnx.Hypergraph(scenes)\n",
    "HypernetxWidget(H)"
   ]
  },
  {
   "cell_type": "code",
   "execution_count": null,
   "id": "e95a81bb",
   "metadata": {},
   "outputs": [],
   "source": []
  }
 ],
 "metadata": {
  "kernelspec": {
   "display_name": "Python 3 (ipykernel)",
   "language": "python",
   "name": "python3"
  },
  "language_info": {
   "codemirror_mode": {
    "name": "ipython",
    "version": 3
   },
   "file_extension": ".py",
   "mimetype": "text/x-python",
   "name": "python",
   "nbconvert_exporter": "python",
   "pygments_lexer": "ipython3",
   "version": "3.9.7"
  }
 },
 "nbformat": 4,
 "nbformat_minor": 5
}
